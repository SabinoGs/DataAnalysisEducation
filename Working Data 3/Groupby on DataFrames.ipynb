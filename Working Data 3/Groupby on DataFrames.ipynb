{
 "cells": [
  {
   "cell_type": "code",
   "execution_count": 1,
   "metadata": {},
   "outputs": [],
   "source": [
    "import numpy as np\n",
    "import pandas as pd"
   ]
  },
  {
   "cell_type": "code",
   "execution_count": 3,
   "metadata": {},
   "outputs": [
    {
     "data": {
      "text/html": [
       "<div>\n",
       "<style scoped>\n",
       "    .dataframe tbody tr th:only-of-type {\n",
       "        vertical-align: middle;\n",
       "    }\n",
       "\n",
       "    .dataframe tbody tr th {\n",
       "        vertical-align: top;\n",
       "    }\n",
       "\n",
       "    .dataframe thead th {\n",
       "        text-align: right;\n",
       "    }\n",
       "</style>\n",
       "<table border=\"1\" class=\"dataframe\">\n",
       "  <thead>\n",
       "    <tr style=\"text-align: right;\">\n",
       "      <th></th>\n",
       "      <th>dataset_1</th>\n",
       "      <th>dataset_2</th>\n",
       "      <th>key_1</th>\n",
       "      <th>key_2</th>\n",
       "    </tr>\n",
       "  </thead>\n",
       "  <tbody>\n",
       "    <tr>\n",
       "      <th>0</th>\n",
       "      <td>-1.500595</td>\n",
       "      <td>0.191367</td>\n",
       "      <td>x</td>\n",
       "      <td>alpha</td>\n",
       "    </tr>\n",
       "    <tr>\n",
       "      <th>1</th>\n",
       "      <td>1.731362</td>\n",
       "      <td>-0.570561</td>\n",
       "      <td>x</td>\n",
       "      <td>beta</td>\n",
       "    </tr>\n",
       "    <tr>\n",
       "      <th>2</th>\n",
       "      <td>0.201571</td>\n",
       "      <td>-0.440455</td>\n",
       "      <td>y</td>\n",
       "      <td>alpha</td>\n",
       "    </tr>\n",
       "    <tr>\n",
       "      <th>3</th>\n",
       "      <td>0.407063</td>\n",
       "      <td>-1.309130</td>\n",
       "      <td>y</td>\n",
       "      <td>beta</td>\n",
       "    </tr>\n",
       "    <tr>\n",
       "      <th>4</th>\n",
       "      <td>0.669476</td>\n",
       "      <td>0.038749</td>\n",
       "      <td>z</td>\n",
       "      <td>alpha</td>\n",
       "    </tr>\n",
       "  </tbody>\n",
       "</table>\n",
       "</div>"
      ],
      "text/plain": [
       "   dataset_1  dataset_2 key_1  key_2\n",
       "0  -1.500595   0.191367     x  alpha\n",
       "1   1.731362  -0.570561     x   beta\n",
       "2   0.201571  -0.440455     y  alpha\n",
       "3   0.407063  -1.309130     y   beta\n",
       "4   0.669476   0.038749     z  alpha"
      ]
     },
     "execution_count": 3,
     "metadata": {},
     "output_type": "execute_result"
    }
   ],
   "source": [
    "df = pd.DataFrame(\n",
    "    {\n",
    "        'key_1':['x','x','y','y','z'],\n",
    "        'key_2':['alpha','beta','alpha','beta','alpha'],\n",
    "        'dataset_1': np.random.randn(5),\n",
    "        'dataset_2': np.random.randn(5)\n",
    "    }\n",
    ")\n",
    "\n",
    "df"
   ]
  },
  {
   "cell_type": "code",
   "execution_count": 9,
   "metadata": {},
   "outputs": [
    {
     "data": {
      "text/plain": [
       "<pandas.core.groupby.DataFrameGroupBy object at 0x7f0f1fccc128>"
      ]
     },
     "execution_count": 9,
     "metadata": {},
     "output_type": "execute_result"
    }
   ],
   "source": [
    "\"\"\"\n",
    "Agrupar o df pelos dados de key_1\n",
    "\"\"\"\n",
    "\n",
    "group1 = df.groupby(['key_1'])\n",
    "\"\"\"\n",
    "Não conseguimos ver o que é group1 pq \n",
    "temos que realizar operações sobre ele\n",
    "\"\"\"\n",
    "group1"
   ]
  },
  {
   "cell_type": "code",
   "execution_count": 11,
   "metadata": {},
   "outputs": [
    {
     "data": {
      "text/html": [
       "<div>\n",
       "<style scoped>\n",
       "    .dataframe tbody tr th:only-of-type {\n",
       "        vertical-align: middle;\n",
       "    }\n",
       "\n",
       "    .dataframe tbody tr th {\n",
       "        vertical-align: top;\n",
       "    }\n",
       "\n",
       "    .dataframe thead th {\n",
       "        text-align: right;\n",
       "    }\n",
       "</style>\n",
       "<table border=\"1\" class=\"dataframe\">\n",
       "  <thead>\n",
       "    <tr style=\"text-align: right;\">\n",
       "      <th></th>\n",
       "      <th>dataset_1</th>\n",
       "      <th>dataset_2</th>\n",
       "    </tr>\n",
       "    <tr>\n",
       "      <th>key_1</th>\n",
       "      <th></th>\n",
       "      <th></th>\n",
       "    </tr>\n",
       "  </thead>\n",
       "  <tbody>\n",
       "    <tr>\n",
       "      <th>x</th>\n",
       "      <td>0.115384</td>\n",
       "      <td>-0.189597</td>\n",
       "    </tr>\n",
       "    <tr>\n",
       "      <th>y</th>\n",
       "      <td>0.304317</td>\n",
       "      <td>-0.874793</td>\n",
       "    </tr>\n",
       "    <tr>\n",
       "      <th>z</th>\n",
       "      <td>0.669476</td>\n",
       "      <td>0.038749</td>\n",
       "    </tr>\n",
       "  </tbody>\n",
       "</table>\n",
       "</div>"
      ],
      "text/plain": [
       "       dataset_1  dataset_2\n",
       "key_1                      \n",
       "x       0.115384  -0.189597\n",
       "y       0.304317  -0.874793\n",
       "z       0.669476   0.038749"
      ]
     },
     "execution_count": 11,
     "metadata": {},
     "output_type": "execute_result"
    }
   ],
   "source": [
    "group1.mean()"
   ]
  },
  {
   "cell_type": "code",
   "execution_count": 19,
   "metadata": {},
   "outputs": [],
   "source": [
    "cities = np.array(['SP','DF','DF','SP','SP'])\n",
    "\n",
    "month = np.array(['JAN','FEB','JAN','FEB','JAN'])"
   ]
  },
  {
   "cell_type": "code",
   "execution_count": 22,
   "metadata": {},
   "outputs": [
    {
     "data": {
      "text/html": [
       "<div>\n",
       "<style scoped>\n",
       "    .dataframe tbody tr th:only-of-type {\n",
       "        vertical-align: middle;\n",
       "    }\n",
       "\n",
       "    .dataframe tbody tr th {\n",
       "        vertical-align: top;\n",
       "    }\n",
       "\n",
       "    .dataframe thead th {\n",
       "        text-align: right;\n",
       "    }\n",
       "</style>\n",
       "<table border=\"1\" class=\"dataframe\">\n",
       "  <thead>\n",
       "    <tr style=\"text-align: right;\">\n",
       "      <th></th>\n",
       "      <th></th>\n",
       "      <th>dataset_1</th>\n",
       "      <th>dataset_2</th>\n",
       "    </tr>\n",
       "  </thead>\n",
       "  <tbody>\n",
       "    <tr>\n",
       "      <th rowspan=\"2\" valign=\"top\">DF</th>\n",
       "      <th>FEB</th>\n",
       "      <td>1.731362</td>\n",
       "      <td>-0.570561</td>\n",
       "    </tr>\n",
       "    <tr>\n",
       "      <th>JAN</th>\n",
       "      <td>0.201571</td>\n",
       "      <td>-0.440455</td>\n",
       "    </tr>\n",
       "    <tr>\n",
       "      <th rowspan=\"2\" valign=\"top\">SP</th>\n",
       "      <th>FEB</th>\n",
       "      <td>0.407063</td>\n",
       "      <td>-1.309130</td>\n",
       "    </tr>\n",
       "    <tr>\n",
       "      <th>JAN</th>\n",
       "      <td>-0.415559</td>\n",
       "      <td>0.115058</td>\n",
       "    </tr>\n",
       "  </tbody>\n",
       "</table>\n",
       "</div>"
      ],
      "text/plain": [
       "        dataset_1  dataset_2\n",
       "DF FEB   1.731362  -0.570561\n",
       "   JAN   0.201571  -0.440455\n",
       "SP FEB   0.407063  -1.309130\n",
       "   JAN  -0.415559   0.115058"
      ]
     },
     "execution_count": 22,
     "metadata": {},
     "output_type": "execute_result"
    }
   ],
   "source": [
    "\"\"\"\n",
    "Vamos realizar um groupby com os arrays acima e o 'df'. \n",
    "\"\"\"\n",
    "\n",
    "df.groupby([cities,month]).mean()"
   ]
  },
  {
   "cell_type": "code",
   "execution_count": 27,
   "metadata": {},
   "outputs": [
    {
     "data": {
      "text/html": [
       "<div>\n",
       "<style scoped>\n",
       "    .dataframe tbody tr th:only-of-type {\n",
       "        vertical-align: middle;\n",
       "    }\n",
       "\n",
       "    .dataframe tbody tr th {\n",
       "        vertical-align: top;\n",
       "    }\n",
       "\n",
       "    .dataframe thead th {\n",
       "        text-align: right;\n",
       "    }\n",
       "</style>\n",
       "<table border=\"1\" class=\"dataframe\">\n",
       "  <thead>\n",
       "    <tr style=\"text-align: right;\">\n",
       "      <th></th>\n",
       "      <th>dataset_1</th>\n",
       "      <th>dataset_2</th>\n",
       "      <th>key_1</th>\n",
       "      <th>key_2</th>\n",
       "    </tr>\n",
       "  </thead>\n",
       "  <tbody>\n",
       "    <tr>\n",
       "      <th>0</th>\n",
       "      <td>-1.500595</td>\n",
       "      <td>0.191367</td>\n",
       "      <td>x</td>\n",
       "      <td>alpha</td>\n",
       "    </tr>\n",
       "    <tr>\n",
       "      <th>1</th>\n",
       "      <td>1.731362</td>\n",
       "      <td>-0.570561</td>\n",
       "      <td>x</td>\n",
       "      <td>beta</td>\n",
       "    </tr>\n",
       "    <tr>\n",
       "      <th>2</th>\n",
       "      <td>0.201571</td>\n",
       "      <td>-0.440455</td>\n",
       "      <td>y</td>\n",
       "      <td>alpha</td>\n",
       "    </tr>\n",
       "    <tr>\n",
       "      <th>3</th>\n",
       "      <td>0.407063</td>\n",
       "      <td>-1.309130</td>\n",
       "      <td>y</td>\n",
       "      <td>beta</td>\n",
       "    </tr>\n",
       "    <tr>\n",
       "      <th>4</th>\n",
       "      <td>0.669476</td>\n",
       "      <td>0.038749</td>\n",
       "      <td>z</td>\n",
       "      <td>alpha</td>\n",
       "    </tr>\n",
       "  </tbody>\n",
       "</table>\n",
       "</div>"
      ],
      "text/plain": [
       "   dataset_1  dataset_2 key_1  key_2\n",
       "0  -1.500595   0.191367     x  alpha\n",
       "1   1.731362  -0.570561     x   beta\n",
       "2   0.201571  -0.440455     y  alpha\n",
       "3   0.407063  -1.309130     y   beta\n",
       "4   0.669476   0.038749     z  alpha"
      ]
     },
     "execution_count": 27,
     "metadata": {},
     "output_type": "execute_result"
    }
   ],
   "source": [
    "df"
   ]
  },
  {
   "cell_type": "code",
   "execution_count": 24,
   "metadata": {},
   "outputs": [
    {
     "data": {
      "text/html": [
       "<div>\n",
       "<style scoped>\n",
       "    .dataframe tbody tr th:only-of-type {\n",
       "        vertical-align: middle;\n",
       "    }\n",
       "\n",
       "    .dataframe tbody tr th {\n",
       "        vertical-align: top;\n",
       "    }\n",
       "\n",
       "    .dataframe thead th {\n",
       "        text-align: right;\n",
       "    }\n",
       "</style>\n",
       "<table border=\"1\" class=\"dataframe\">\n",
       "  <thead>\n",
       "    <tr style=\"text-align: right;\">\n",
       "      <th></th>\n",
       "      <th>dataset_1</th>\n",
       "      <th>dataset_2</th>\n",
       "    </tr>\n",
       "    <tr>\n",
       "      <th>key_1</th>\n",
       "      <th></th>\n",
       "      <th></th>\n",
       "    </tr>\n",
       "  </thead>\n",
       "  <tbody>\n",
       "    <tr>\n",
       "      <th>x</th>\n",
       "      <td>0.115384</td>\n",
       "      <td>-0.189597</td>\n",
       "    </tr>\n",
       "    <tr>\n",
       "      <th>y</th>\n",
       "      <td>0.304317</td>\n",
       "      <td>-0.874793</td>\n",
       "    </tr>\n",
       "    <tr>\n",
       "      <th>z</th>\n",
       "      <td>0.669476</td>\n",
       "      <td>0.038749</td>\n",
       "    </tr>\n",
       "  </tbody>\n",
       "</table>\n",
       "</div>"
      ],
      "text/plain": [
       "       dataset_1  dataset_2\n",
       "key_1                      \n",
       "x       0.115384  -0.189597\n",
       "y       0.304317  -0.874793\n",
       "z       0.669476   0.038749"
      ]
     },
     "execution_count": 24,
     "metadata": {},
     "output_type": "execute_result"
    }
   ],
   "source": [
    "\"\"\"\n",
    "Podemos passar os nomes das colunas como argumento pro groupby.\n",
    "Ou uma lista de colunas. \n",
    "\"\"\"\n",
    "\n",
    "df.groupby('key_1').mean()\n",
    "\n"
   ]
  },
  {
   "cell_type": "code",
   "execution_count": 28,
   "metadata": {},
   "outputs": [
    {
     "data": {
      "text/html": [
       "<div>\n",
       "<style scoped>\n",
       "    .dataframe tbody tr th:only-of-type {\n",
       "        vertical-align: middle;\n",
       "    }\n",
       "\n",
       "    .dataframe tbody tr th {\n",
       "        vertical-align: top;\n",
       "    }\n",
       "\n",
       "    .dataframe thead th {\n",
       "        text-align: right;\n",
       "    }\n",
       "</style>\n",
       "<table border=\"1\" class=\"dataframe\">\n",
       "  <thead>\n",
       "    <tr style=\"text-align: right;\">\n",
       "      <th></th>\n",
       "      <th></th>\n",
       "      <th>dataset_1</th>\n",
       "      <th>dataset_2</th>\n",
       "    </tr>\n",
       "    <tr>\n",
       "      <th>key_1</th>\n",
       "      <th>key_2</th>\n",
       "      <th></th>\n",
       "      <th></th>\n",
       "    </tr>\n",
       "  </thead>\n",
       "  <tbody>\n",
       "    <tr>\n",
       "      <th rowspan=\"2\" valign=\"top\">x</th>\n",
       "      <th>alpha</th>\n",
       "      <td>-1.500595</td>\n",
       "      <td>0.191367</td>\n",
       "    </tr>\n",
       "    <tr>\n",
       "      <th>beta</th>\n",
       "      <td>1.731362</td>\n",
       "      <td>-0.570561</td>\n",
       "    </tr>\n",
       "    <tr>\n",
       "      <th rowspan=\"2\" valign=\"top\">y</th>\n",
       "      <th>alpha</th>\n",
       "      <td>0.201571</td>\n",
       "      <td>-0.440455</td>\n",
       "    </tr>\n",
       "    <tr>\n",
       "      <th>beta</th>\n",
       "      <td>0.407063</td>\n",
       "      <td>-1.309130</td>\n",
       "    </tr>\n",
       "    <tr>\n",
       "      <th>z</th>\n",
       "      <th>alpha</th>\n",
       "      <td>0.669476</td>\n",
       "      <td>0.038749</td>\n",
       "    </tr>\n",
       "  </tbody>\n",
       "</table>\n",
       "</div>"
      ],
      "text/plain": [
       "             dataset_1  dataset_2\n",
       "key_1 key_2                      \n",
       "x     alpha  -1.500595   0.191367\n",
       "      beta    1.731362  -0.570561\n",
       "y     alpha   0.201571  -0.440455\n",
       "      beta    0.407063  -1.309130\n",
       "z     alpha   0.669476   0.038749"
      ]
     },
     "execution_count": 28,
     "metadata": {},
     "output_type": "execute_result"
    }
   ],
   "source": [
    "\"\"\"\n",
    "Lista de colunas\n",
    "\"\"\"\n",
    "\n",
    "df.groupby(['key_1','key_2']).mean()"
   ]
  },
  {
   "cell_type": "code",
   "execution_count": 30,
   "metadata": {},
   "outputs": [
    {
     "data": {
      "text/plain": [
       "key_1  key_2\n",
       "x      alpha    1\n",
       "       beta     1\n",
       "y      alpha    1\n",
       "       beta     1\n",
       "z      alpha    1\n",
       "dtype: int64"
      ]
     },
     "execution_count": 30,
     "metadata": {},
     "output_type": "execute_result"
    }
   ],
   "source": [
    "\"\"\"\n",
    "Outros metodos de Groupby\n",
    "https://pandas.pydata.org/pandas-docs/stable/generated/pandas.DataFrame.groupby.html\n",
    "\"\"\"\n",
    "\n",
    "df.groupby(['key_1','key_2']).size()"
   ]
  },
  {
   "cell_type": "code",
   "execution_count": 34,
   "metadata": {},
   "outputs": [
    {
     "name": "stdout",
     "output_type": "stream",
     "text": [
      "This is the x group\n",
      "   dataset_1  dataset_2 key_1  key_2\n",
      "0  -1.500595   0.191367     x  alpha\n",
      "1   1.731362  -0.570561     x   beta \n",
      "\n",
      "This is the y group\n",
      "   dataset_1  dataset_2 key_1  key_2\n",
      "2   0.201571  -0.440455     y  alpha\n",
      "3   0.407063  -1.309130     y   beta \n",
      "\n",
      "This is the z group\n",
      "   dataset_1  dataset_2 key_1  key_2\n",
      "4   0.669476   0.038749     z  alpha \n",
      "\n"
     ]
    }
   ],
   "source": [
    "\"\"\"\n",
    "Podemos percorrer o retorno de um groupby. \n",
    "\n",
    "Note que nao precisou de colocar um .method (sum,agg,mean,etc) \n",
    "depois do groupby.\n",
    "\"\"\"\n",
    "\n",
    "for name,group in df.groupby('key_1'):\n",
    "    \n",
    "    \"\"\"\n",
    "    name é o valor da key_1 nessa iteracao\n",
    "    group são os outros valores agrupados/relacionados com a chave key_1\n",
    "    \"\"\"\n",
    "    \n",
    "    print(\"This is the {} group\".format(name))\n",
    "    print(group,'\\n')"
   ]
  },
  {
   "cell_type": "code",
   "execution_count": 36,
   "metadata": {},
   "outputs": [
    {
     "name": "stdout",
     "output_type": "stream",
     "text": [
      "Key1 = x, Key2 = alpha\n",
      "   dataset_1  dataset_2 key_1  key_2\n",
      "0  -1.500595   0.191367     x  alpha \n",
      "\n",
      "Key1 = x, Key2 = beta\n",
      "   dataset_1  dataset_2 key_1 key_2\n",
      "1   1.731362  -0.570561     x  beta \n",
      "\n",
      "Key1 = y, Key2 = alpha\n",
      "   dataset_1  dataset_2 key_1  key_2\n",
      "2   0.201571  -0.440455     y  alpha \n",
      "\n",
      "Key1 = y, Key2 = beta\n",
      "   dataset_1  dataset_2 key_1 key_2\n",
      "3   0.407063   -1.30913     y  beta \n",
      "\n",
      "Key1 = z, Key2 = alpha\n",
      "   dataset_1  dataset_2 key_1  key_2\n",
      "4   0.669476   0.038749     z  alpha \n",
      "\n"
     ]
    }
   ],
   "source": [
    "\"\"\"\n",
    "Iterando sobre multiplas keys. \n",
    "\"\"\"\n",
    "for (key1,key2), group in df.groupby(['key_1','key_2']):\n",
    "    print('Key1 = {}, Key2 = {}'.format(key1,key2))\n",
    "    print(group,'\\n')"
   ]
  },
  {
   "cell_type": "code",
   "execution_count": 40,
   "metadata": {},
   "outputs": [
    {
     "data": {
      "text/plain": [
       "{'x':    dataset_1  dataset_2 key_1  key_2\n",
       " 0  -1.500595   0.191367     x  alpha\n",
       " 1   1.731362  -0.570561     x   beta,\n",
       " 'y':    dataset_1  dataset_2 key_1  key_2\n",
       " 2   0.201571  -0.440455     y  alpha\n",
       " 3   0.407063  -1.309130     y   beta,\n",
       " 'z':    dataset_1  dataset_2 key_1  key_2\n",
       " 4   0.669476   0.038749     z  alpha}"
      ]
     },
     "execution_count": 40,
     "metadata": {},
     "output_type": "execute_result"
    }
   ],
   "source": [
    "\"\"\"\n",
    "Pode-se criar um dicionario de dados agrupados. \n",
    "\"\"\"\n",
    "\n",
    "g_dict = dict(list(df.groupby('key_1')))\n",
    "g_dict"
   ]
  },
  {
   "cell_type": "code",
   "execution_count": 42,
   "metadata": {},
   "outputs": [
    {
     "data": {
      "text/html": [
       "<div>\n",
       "<style scoped>\n",
       "    .dataframe tbody tr th:only-of-type {\n",
       "        vertical-align: middle;\n",
       "    }\n",
       "\n",
       "    .dataframe tbody tr th {\n",
       "        vertical-align: top;\n",
       "    }\n",
       "\n",
       "    .dataframe thead th {\n",
       "        text-align: right;\n",
       "    }\n",
       "</style>\n",
       "<table border=\"1\" class=\"dataframe\">\n",
       "  <thead>\n",
       "    <tr style=\"text-align: right;\">\n",
       "      <th></th>\n",
       "      <th>dataset_1</th>\n",
       "      <th>dataset_2</th>\n",
       "      <th>key_1</th>\n",
       "      <th>key_2</th>\n",
       "    </tr>\n",
       "  </thead>\n",
       "  <tbody>\n",
       "    <tr>\n",
       "      <th>0</th>\n",
       "      <td>-1.500595</td>\n",
       "      <td>0.191367</td>\n",
       "      <td>x</td>\n",
       "      <td>alpha</td>\n",
       "    </tr>\n",
       "    <tr>\n",
       "      <th>1</th>\n",
       "      <td>1.731362</td>\n",
       "      <td>-0.570561</td>\n",
       "      <td>x</td>\n",
       "      <td>beta</td>\n",
       "    </tr>\n",
       "  </tbody>\n",
       "</table>\n",
       "</div>"
      ],
      "text/plain": [
       "   dataset_1  dataset_2 key_1  key_2\n",
       "0  -1.500595   0.191367     x  alpha\n",
       "1   1.731362  -0.570561     x   beta"
      ]
     },
     "execution_count": 42,
     "metadata": {},
     "output_type": "execute_result"
    }
   ],
   "source": [
    "g_dict['x']"
   ]
  },
  {
   "cell_type": "code",
   "execution_count": 45,
   "metadata": {},
   "outputs": [
    {
     "data": {
      "text/plain": [
       "{dtype('float64'):    dataset_1  dataset_2\n",
       " 0  -1.500595   0.191367\n",
       " 1   1.731362  -0.570561\n",
       " 2   0.201571  -0.440455\n",
       " 3   0.407063  -1.309130\n",
       " 4   0.669476   0.038749, dtype('O'):   key_1  key_2\n",
       " 0     x  alpha\n",
       " 1     x   beta\n",
       " 2     y  alpha\n",
       " 3     y   beta\n",
       " 4     z  alpha}"
      ]
     },
     "execution_count": 45,
     "metadata": {},
     "output_type": "execute_result"
    }
   ],
   "source": [
    "\"\"\"\n",
    "Podemos agrupar o df de diversas formas. \n",
    "\n",
    "Abaixo é um exemplo de groupby usando os types que estão no DataFrame\n",
    "\"\"\"\n",
    "g_axis_dict = dict(list(df.groupby(df.dtypes,axis=1)))\n",
    "g_axis_dict"
   ]
  },
  {
   "cell_type": "code",
   "execution_count": 52,
   "metadata": {},
   "outputs": [
    {
     "data": {
      "text/plain": [
       "key_1  key_2\n",
       "x      alpha    1\n",
       "       beta     1\n",
       "y      alpha    1\n",
       "       beta     1\n",
       "z      alpha    1\n",
       "Name: dataset_2, dtype: int64"
      ]
     },
     "execution_count": 52,
     "metadata": {},
     "output_type": "execute_result"
    }
   ],
   "source": [
    "\"\"\"\n",
    "Agrupar os valores do 'df' com base em key_1,key_2 e nos valores da coluna \n",
    "dataset_2\n",
    "\"\"\"\n",
    "\n",
    "dataset2_group = df.groupby(['key_1','key_2'])['dataset_2']\n",
    "\n",
    "\"\"\"\n",
    "Aqui podemos realizar as diversas operações permitidas no DataFrame\n",
    "\"\"\"\n",
    "dataset2_group.size()"
   ]
  },
  {
   "cell_type": "code",
   "execution_count": 49,
   "metadata": {},
   "outputs": [
    {
     "data": {
      "text/html": [
       "<div>\n",
       "<style scoped>\n",
       "    .dataframe tbody tr th:only-of-type {\n",
       "        vertical-align: middle;\n",
       "    }\n",
       "\n",
       "    .dataframe tbody tr th {\n",
       "        vertical-align: top;\n",
       "    }\n",
       "\n",
       "    .dataframe thead th {\n",
       "        text-align: right;\n",
       "    }\n",
       "</style>\n",
       "<table border=\"1\" class=\"dataframe\">\n",
       "  <thead>\n",
       "    <tr style=\"text-align: right;\">\n",
       "      <th></th>\n",
       "      <th>dataset_1</th>\n",
       "      <th>dataset_2</th>\n",
       "      <th>key_1</th>\n",
       "      <th>key_2</th>\n",
       "    </tr>\n",
       "  </thead>\n",
       "  <tbody>\n",
       "    <tr>\n",
       "      <th>0</th>\n",
       "      <td>-1.500595</td>\n",
       "      <td>0.191367</td>\n",
       "      <td>x</td>\n",
       "      <td>alpha</td>\n",
       "    </tr>\n",
       "    <tr>\n",
       "      <th>1</th>\n",
       "      <td>1.731362</td>\n",
       "      <td>-0.570561</td>\n",
       "      <td>x</td>\n",
       "      <td>beta</td>\n",
       "    </tr>\n",
       "    <tr>\n",
       "      <th>2</th>\n",
       "      <td>0.201571</td>\n",
       "      <td>-0.440455</td>\n",
       "      <td>y</td>\n",
       "      <td>alpha</td>\n",
       "    </tr>\n",
       "    <tr>\n",
       "      <th>3</th>\n",
       "      <td>0.407063</td>\n",
       "      <td>-1.309130</td>\n",
       "      <td>y</td>\n",
       "      <td>beta</td>\n",
       "    </tr>\n",
       "    <tr>\n",
       "      <th>4</th>\n",
       "      <td>0.669476</td>\n",
       "      <td>0.038749</td>\n",
       "      <td>z</td>\n",
       "      <td>alpha</td>\n",
       "    </tr>\n",
       "  </tbody>\n",
       "</table>\n",
       "</div>"
      ],
      "text/plain": [
       "   dataset_1  dataset_2 key_1  key_2\n",
       "0  -1.500595   0.191367     x  alpha\n",
       "1   1.731362  -0.570561     x   beta\n",
       "2   0.201571  -0.440455     y  alpha\n",
       "3   0.407063  -1.309130     y   beta\n",
       "4   0.669476   0.038749     z  alpha"
      ]
     },
     "execution_count": 49,
     "metadata": {},
     "output_type": "execute_result"
    }
   ],
   "source": [
    "df"
   ]
  }
 ],
 "metadata": {
  "kernelspec": {
   "display_name": "Python 3",
   "language": "python",
   "name": "python3"
  },
  "language_info": {
   "codemirror_mode": {
    "name": "ipython",
    "version": 3
   },
   "file_extension": ".py",
   "mimetype": "text/x-python",
   "name": "python",
   "nbconvert_exporter": "python",
   "pygments_lexer": "ipython3",
   "version": "3.5.3"
  }
 },
 "nbformat": 4,
 "nbformat_minor": 2
}

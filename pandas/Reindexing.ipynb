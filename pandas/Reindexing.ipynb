{
 "cells": [
  {
   "cell_type": "code",
   "execution_count": 2,
   "metadata": {},
   "outputs": [],
   "source": [
    "import pandas as pd\n",
    "import numpy as np\n",
    "from numpy.random import randn"
   ]
  },
  {
   "cell_type": "code",
   "execution_count": 4,
   "metadata": {},
   "outputs": [
    {
     "data": {
      "text/plain": [
       "A    1\n",
       "B    2\n",
       "C    3\n",
       "D    4\n",
       "dtype: int64"
      ]
     },
     "execution_count": 4,
     "metadata": {},
     "output_type": "execute_result"
    }
   ],
   "source": [
    "serie1 = pd.Series([1,2,3,4],index=['A','B','C','D'])\n",
    "serie1"
   ]
  },
  {
   "cell_type": "code",
   "execution_count": 12,
   "metadata": {},
   "outputs": [
    {
     "data": {
      "text/plain": [
       "A    1.0\n",
       "B    2.0\n",
       "C    3.0\n",
       "D    4.0\n",
       "E    NaN\n",
       "F    NaN\n",
       "dtype: float64"
      ]
     },
     "execution_count": 12,
     "metadata": {},
     "output_type": "execute_result"
    }
   ],
   "source": [
    "\"\"\"\n",
    "Chamar o reindex muda os indices das series. \n",
    "Ao adicionar as letras E e F, as quais nao tinha na serie1, pandas atribui\n",
    "NaN a esses novos indices.\n",
    "\"\"\"\n",
    "ser2 = serie1.reindex(['A','B','C','D','E','F'])\n",
    "ser2"
   ]
  },
  {
   "cell_type": "code",
   "execution_count": 15,
   "metadata": {},
   "outputs": [
    {
     "data": {
      "text/plain": [
       "A    1.0\n",
       "B    2.0\n",
       "C    3.0\n",
       "D    4.0\n",
       "E    NaN\n",
       "F    NaN\n",
       "G    0.0\n",
       "dtype: float64"
      ]
     },
     "execution_count": 15,
     "metadata": {},
     "output_type": "execute_result"
    }
   ],
   "source": [
    "\"\"\"\n",
    "fill_value dentro da função reindex faz com que os indices novos\n",
    "fiquem como o valor atribuido, no caso 0. \n",
    "\"\"\"\n",
    "ser2.reindex(['A','B','C','D','E','F','G'],fill_value=0)"
   ]
  },
  {
   "cell_type": "code",
   "execution_count": 18,
   "metadata": {},
   "outputs": [],
   "source": [
    "ser3 = pd.Series(['USA',\"Mexico\",'Canada'],index=[0,5,10])"
   ]
  },
  {
   "cell_type": "code",
   "execution_count": 25,
   "metadata": {},
   "outputs": [
    {
     "data": {
      "text/plain": [
       "0        USA\n",
       "1        USA\n",
       "2        USA\n",
       "3        USA\n",
       "4        USA\n",
       "5     Mexico\n",
       "6     Mexico\n",
       "7     Mexico\n",
       "8     Mexico\n",
       "9     Mexico\n",
       "10    Canada\n",
       "11    Canada\n",
       "12    Canada\n",
       "13    Canada\n",
       "14    Canada\n",
       "dtype: object"
      ]
     },
     "execution_count": 25,
     "metadata": {},
     "output_type": "execute_result"
    }
   ],
   "source": [
    "\"\"\"\n",
    "Chamar reindex com o argumento 'method' faz com que o preenchimento \n",
    "dos novos indices seja feito de diversas maneiras\n",
    "\n",
    "ffill (forward fill) atribui o primeiro valor aos novos indices até \n",
    "encontrar um novo valor. \n",
    "\n",
    "no caso abaixo. \n",
    "0 até 4 - USA\n",
    "5 até 9 - Mexico\n",
    "10 até 15 - Canada\n",
    "\"\"\"\n",
    "\n",
    "ser3.reindex(range(15),method=\"ffill\")"
   ]
  },
  {
   "cell_type": "code",
   "execution_count": 29,
   "metadata": {},
   "outputs": [
    {
     "data": {
      "text/html": [
       "<div>\n",
       "<style scoped>\n",
       "    .dataframe tbody tr th:only-of-type {\n",
       "        vertical-align: middle;\n",
       "    }\n",
       "\n",
       "    .dataframe tbody tr th {\n",
       "        vertical-align: top;\n",
       "    }\n",
       "\n",
       "    .dataframe thead th {\n",
       "        text-align: right;\n",
       "    }\n",
       "</style>\n",
       "<table border=\"1\" class=\"dataframe\">\n",
       "  <thead>\n",
       "    <tr style=\"text-align: right;\">\n",
       "      <th></th>\n",
       "      <th>col1</th>\n",
       "      <th>col2</th>\n",
       "      <th>col3</th>\n",
       "      <th>col4</th>\n",
       "      <th>col5</th>\n",
       "    </tr>\n",
       "  </thead>\n",
       "  <tbody>\n",
       "    <tr>\n",
       "      <th>A</th>\n",
       "      <td>-0.650214</td>\n",
       "      <td>1.183145</td>\n",
       "      <td>-0.840708</td>\n",
       "      <td>-0.380701</td>\n",
       "      <td>-0.499104</td>\n",
       "    </tr>\n",
       "    <tr>\n",
       "      <th>B</th>\n",
       "      <td>0.992732</td>\n",
       "      <td>-0.211445</td>\n",
       "      <td>-0.175263</td>\n",
       "      <td>-0.901438</td>\n",
       "      <td>-0.030333</td>\n",
       "    </tr>\n",
       "    <tr>\n",
       "      <th>D</th>\n",
       "      <td>-1.410934</td>\n",
       "      <td>-0.888939</td>\n",
       "      <td>0.308591</td>\n",
       "      <td>-1.031173</td>\n",
       "      <td>-0.656841</td>\n",
       "    </tr>\n",
       "    <tr>\n",
       "      <th>E</th>\n",
       "      <td>-0.706026</td>\n",
       "      <td>0.602574</td>\n",
       "      <td>1.210523</td>\n",
       "      <td>-0.514325</td>\n",
       "      <td>0.007809</td>\n",
       "    </tr>\n",
       "    <tr>\n",
       "      <th>F</th>\n",
       "      <td>0.515330</td>\n",
       "      <td>0.233933</td>\n",
       "      <td>0.717996</td>\n",
       "      <td>-0.100623</td>\n",
       "      <td>0.627907</td>\n",
       "    </tr>\n",
       "  </tbody>\n",
       "</table>\n",
       "</div>"
      ],
      "text/plain": [
       "       col1      col2      col3      col4      col5\n",
       "A -0.650214  1.183145 -0.840708 -0.380701 -0.499104\n",
       "B  0.992732 -0.211445 -0.175263 -0.901438 -0.030333\n",
       "D -1.410934 -0.888939  0.308591 -1.031173 -0.656841\n",
       "E -0.706026  0.602574  1.210523 -0.514325  0.007809\n",
       "F  0.515330  0.233933  0.717996 -0.100623  0.627907"
      ]
     },
     "execution_count": 29,
     "metadata": {},
     "output_type": "execute_result"
    }
   ],
   "source": [
    "dframe = pd.DataFrame(randn(25).reshape((5,5)),index=['A',\"B\",'D','E','F'],\n",
    "                          columns=['col1','col2','col3','col4','col5'])\n",
    "dframe"
   ]
  },
  {
   "cell_type": "code",
   "execution_count": 32,
   "metadata": {},
   "outputs": [
    {
     "data": {
      "text/html": [
       "<div>\n",
       "<style scoped>\n",
       "    .dataframe tbody tr th:only-of-type {\n",
       "        vertical-align: middle;\n",
       "    }\n",
       "\n",
       "    .dataframe tbody tr th {\n",
       "        vertical-align: top;\n",
       "    }\n",
       "\n",
       "    .dataframe thead th {\n",
       "        text-align: right;\n",
       "    }\n",
       "</style>\n",
       "<table border=\"1\" class=\"dataframe\">\n",
       "  <thead>\n",
       "    <tr style=\"text-align: right;\">\n",
       "      <th></th>\n",
       "      <th>col1</th>\n",
       "      <th>col2</th>\n",
       "      <th>col3</th>\n",
       "      <th>col4</th>\n",
       "      <th>col5</th>\n",
       "    </tr>\n",
       "  </thead>\n",
       "  <tbody>\n",
       "    <tr>\n",
       "      <th>A</th>\n",
       "      <td>-0.650214</td>\n",
       "      <td>1.183145</td>\n",
       "      <td>-0.840708</td>\n",
       "      <td>-0.380701</td>\n",
       "      <td>-0.499104</td>\n",
       "    </tr>\n",
       "    <tr>\n",
       "      <th>B</th>\n",
       "      <td>0.992732</td>\n",
       "      <td>-0.211445</td>\n",
       "      <td>-0.175263</td>\n",
       "      <td>-0.901438</td>\n",
       "      <td>-0.030333</td>\n",
       "    </tr>\n",
       "    <tr>\n",
       "      <th>C</th>\n",
       "      <td>NaN</td>\n",
       "      <td>NaN</td>\n",
       "      <td>NaN</td>\n",
       "      <td>NaN</td>\n",
       "      <td>NaN</td>\n",
       "    </tr>\n",
       "    <tr>\n",
       "      <th>D</th>\n",
       "      <td>-1.410934</td>\n",
       "      <td>-0.888939</td>\n",
       "      <td>0.308591</td>\n",
       "      <td>-1.031173</td>\n",
       "      <td>-0.656841</td>\n",
       "    </tr>\n",
       "    <tr>\n",
       "      <th>E</th>\n",
       "      <td>-0.706026</td>\n",
       "      <td>0.602574</td>\n",
       "      <td>1.210523</td>\n",
       "      <td>-0.514325</td>\n",
       "      <td>0.007809</td>\n",
       "    </tr>\n",
       "    <tr>\n",
       "      <th>F</th>\n",
       "      <td>0.515330</td>\n",
       "      <td>0.233933</td>\n",
       "      <td>0.717996</td>\n",
       "      <td>-0.100623</td>\n",
       "      <td>0.627907</td>\n",
       "    </tr>\n",
       "  </tbody>\n",
       "</table>\n",
       "</div>"
      ],
      "text/plain": [
       "       col1      col2      col3      col4      col5\n",
       "A -0.650214  1.183145 -0.840708 -0.380701 -0.499104\n",
       "B  0.992732 -0.211445 -0.175263 -0.901438 -0.030333\n",
       "C       NaN       NaN       NaN       NaN       NaN\n",
       "D -1.410934 -0.888939  0.308591 -1.031173 -0.656841\n",
       "E -0.706026  0.602574  1.210523 -0.514325  0.007809\n",
       "F  0.515330  0.233933  0.717996 -0.100623  0.627907"
      ]
     },
     "execution_count": 32,
     "metadata": {},
     "output_type": "execute_result"
    }
   ],
   "source": [
    "\"\"\"\n",
    "dframe nao tem o indice 'C', vamos colocá-lo\n",
    "\"\"\"\n",
    "\n",
    "d2 = dframe.reindex(['A',\"B\",'C','D','E','F'])\n",
    "d2"
   ]
  },
  {
   "cell_type": "code",
   "execution_count": 34,
   "metadata": {},
   "outputs": [
    {
     "data": {
      "text/html": [
       "<div>\n",
       "<style scoped>\n",
       "    .dataframe tbody tr th:only-of-type {\n",
       "        vertical-align: middle;\n",
       "    }\n",
       "\n",
       "    .dataframe tbody tr th {\n",
       "        vertical-align: top;\n",
       "    }\n",
       "\n",
       "    .dataframe thead th {\n",
       "        text-align: right;\n",
       "    }\n",
       "</style>\n",
       "<table border=\"1\" class=\"dataframe\">\n",
       "  <thead>\n",
       "    <tr style=\"text-align: right;\">\n",
       "      <th></th>\n",
       "      <th>col1</th>\n",
       "      <th>col2</th>\n",
       "      <th>col3</th>\n",
       "      <th>col4</th>\n",
       "      <th>col5</th>\n",
       "      <th>col6</th>\n",
       "    </tr>\n",
       "  </thead>\n",
       "  <tbody>\n",
       "    <tr>\n",
       "      <th>A</th>\n",
       "      <td>-0.650214</td>\n",
       "      <td>1.183145</td>\n",
       "      <td>-0.840708</td>\n",
       "      <td>-0.380701</td>\n",
       "      <td>-0.499104</td>\n",
       "      <td>NaN</td>\n",
       "    </tr>\n",
       "    <tr>\n",
       "      <th>B</th>\n",
       "      <td>0.992732</td>\n",
       "      <td>-0.211445</td>\n",
       "      <td>-0.175263</td>\n",
       "      <td>-0.901438</td>\n",
       "      <td>-0.030333</td>\n",
       "      <td>NaN</td>\n",
       "    </tr>\n",
       "    <tr>\n",
       "      <th>C</th>\n",
       "      <td>NaN</td>\n",
       "      <td>NaN</td>\n",
       "      <td>NaN</td>\n",
       "      <td>NaN</td>\n",
       "      <td>NaN</td>\n",
       "      <td>NaN</td>\n",
       "    </tr>\n",
       "    <tr>\n",
       "      <th>D</th>\n",
       "      <td>-1.410934</td>\n",
       "      <td>-0.888939</td>\n",
       "      <td>0.308591</td>\n",
       "      <td>-1.031173</td>\n",
       "      <td>-0.656841</td>\n",
       "      <td>NaN</td>\n",
       "    </tr>\n",
       "    <tr>\n",
       "      <th>E</th>\n",
       "      <td>-0.706026</td>\n",
       "      <td>0.602574</td>\n",
       "      <td>1.210523</td>\n",
       "      <td>-0.514325</td>\n",
       "      <td>0.007809</td>\n",
       "      <td>NaN</td>\n",
       "    </tr>\n",
       "    <tr>\n",
       "      <th>F</th>\n",
       "      <td>0.515330</td>\n",
       "      <td>0.233933</td>\n",
       "      <td>0.717996</td>\n",
       "      <td>-0.100623</td>\n",
       "      <td>0.627907</td>\n",
       "      <td>NaN</td>\n",
       "    </tr>\n",
       "  </tbody>\n",
       "</table>\n",
       "</div>"
      ],
      "text/plain": [
       "       col1      col2      col3      col4      col5  col6\n",
       "A -0.650214  1.183145 -0.840708 -0.380701 -0.499104   NaN\n",
       "B  0.992732 -0.211445 -0.175263 -0.901438 -0.030333   NaN\n",
       "C       NaN       NaN       NaN       NaN       NaN   NaN\n",
       "D -1.410934 -0.888939  0.308591 -1.031173 -0.656841   NaN\n",
       "E -0.706026  0.602574  1.210523 -0.514325  0.007809   NaN\n",
       "F  0.515330  0.233933  0.717996 -0.100623  0.627907   NaN"
      ]
     },
     "execution_count": 34,
     "metadata": {},
     "output_type": "execute_result"
    }
   ],
   "source": [
    "\"\"\"\n",
    "Podemos também adicionar novas colunas. \n",
    "Adicionaremos a 'col6'\n",
    "\"\"\"\n",
    "\n",
    "new_columns = ['col1','col2','col3','col4','col5','col6']\n",
    "d2.reindex(columns=new_columns)"
   ]
  },
  {
   "cell_type": "code",
   "execution_count": null,
   "metadata": {},
   "outputs": [],
   "source": []
  }
 ],
 "metadata": {
  "kernelspec": {
   "display_name": "Python 3",
   "language": "python",
   "name": "python3"
  },
  "language_info": {
   "codemirror_mode": {
    "name": "ipython",
    "version": 3
   },
   "file_extension": ".py",
   "mimetype": "text/x-python",
   "name": "python",
   "nbconvert_exporter": "python",
   "pygments_lexer": "ipython3",
   "version": "3.5.3"
  }
 },
 "nbformat": 4,
 "nbformat_minor": 2
}

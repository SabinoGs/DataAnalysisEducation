{
 "cells": [
  {
   "cell_type": "markdown",
   "metadata": {},
   "source": [
    "# NLTK\n",
    "\n",
    "[Natural language Tool kit](http://www.nltk.org/)\n",
    "\n",
    "\n",
    "[feature engineering - wiki](https://en.wikipedia.org/wiki/Feature_engineering)"
   ]
  },
  {
   "cell_type": "code",
   "execution_count": 11,
   "metadata": {},
   "outputs": [],
   "source": [
    "import nltk\n",
    "import pandas as pd\n",
    "import numpy as np\n",
    "\n",
    "import seaborn as sns\n",
    "import matplotlib.pyplot as plt\n",
    "\n",
    "%matplotlib inline"
   ]
  },
  {
   "cell_type": "code",
   "execution_count": 9,
   "metadata": {},
   "outputs": [],
   "source": [
    "msgs = pd.read_csv('/home/sabinogs/Downloads/SMSSpamCollection',sep='\\t',names=['class','message'])"
   ]
  },
  {
   "cell_type": "code",
   "execution_count": 10,
   "metadata": {},
   "outputs": [
    {
     "data": {
      "text/html": [
       "<div>\n",
       "<style scoped>\n",
       "    .dataframe tbody tr th:only-of-type {\n",
       "        vertical-align: middle;\n",
       "    }\n",
       "\n",
       "    .dataframe tbody tr th {\n",
       "        vertical-align: top;\n",
       "    }\n",
       "\n",
       "    .dataframe thead th {\n",
       "        text-align: right;\n",
       "    }\n",
       "</style>\n",
       "<table border=\"1\" class=\"dataframe\">\n",
       "  <thead>\n",
       "    <tr style=\"text-align: right;\">\n",
       "      <th></th>\n",
       "      <th>class</th>\n",
       "      <th>message</th>\n",
       "    </tr>\n",
       "  </thead>\n",
       "  <tbody>\n",
       "    <tr>\n",
       "      <th>0</th>\n",
       "      <td>ham</td>\n",
       "      <td>Go until jurong point, crazy.. Available only ...</td>\n",
       "    </tr>\n",
       "    <tr>\n",
       "      <th>1</th>\n",
       "      <td>ham</td>\n",
       "      <td>Ok lar... Joking wif u oni...</td>\n",
       "    </tr>\n",
       "    <tr>\n",
       "      <th>2</th>\n",
       "      <td>spam</td>\n",
       "      <td>Free entry in 2 a wkly comp to win FA Cup fina...</td>\n",
       "    </tr>\n",
       "    <tr>\n",
       "      <th>3</th>\n",
       "      <td>ham</td>\n",
       "      <td>U dun say so early hor... U c already then say...</td>\n",
       "    </tr>\n",
       "    <tr>\n",
       "      <th>4</th>\n",
       "      <td>ham</td>\n",
       "      <td>Nah I don't think he goes to usf, he lives aro...</td>\n",
       "    </tr>\n",
       "  </tbody>\n",
       "</table>\n",
       "</div>"
      ],
      "text/plain": [
       "  class                                            message\n",
       "0   ham  Go until jurong point, crazy.. Available only ...\n",
       "1   ham                      Ok lar... Joking wif u oni...\n",
       "2  spam  Free entry in 2 a wkly comp to win FA Cup fina...\n",
       "3   ham  U dun say so early hor... U c already then say...\n",
       "4   ham  Nah I don't think he goes to usf, he lives aro..."
      ]
     },
     "execution_count": 10,
     "metadata": {},
     "output_type": "execute_result"
    }
   ],
   "source": [
    "msgs.head()"
   ]
  },
  {
   "cell_type": "code",
   "execution_count": 13,
   "metadata": {},
   "outputs": [
    {
     "data": {
      "text/html": [
       "<div>\n",
       "<style scoped>\n",
       "    .dataframe tbody tr th:only-of-type {\n",
       "        vertical-align: middle;\n",
       "    }\n",
       "\n",
       "    .dataframe tbody tr th {\n",
       "        vertical-align: top;\n",
       "    }\n",
       "\n",
       "    .dataframe thead tr th {\n",
       "        text-align: left;\n",
       "    }\n",
       "\n",
       "    .dataframe thead tr:last-of-type th {\n",
       "        text-align: right;\n",
       "    }\n",
       "</style>\n",
       "<table border=\"1\" class=\"dataframe\">\n",
       "  <thead>\n",
       "    <tr>\n",
       "      <th></th>\n",
       "      <th colspan=\"4\" halign=\"left\">message</th>\n",
       "    </tr>\n",
       "    <tr>\n",
       "      <th></th>\n",
       "      <th>count</th>\n",
       "      <th>unique</th>\n",
       "      <th>top</th>\n",
       "      <th>freq</th>\n",
       "    </tr>\n",
       "    <tr>\n",
       "      <th>class</th>\n",
       "      <th></th>\n",
       "      <th></th>\n",
       "      <th></th>\n",
       "      <th></th>\n",
       "    </tr>\n",
       "  </thead>\n",
       "  <tbody>\n",
       "    <tr>\n",
       "      <th>ham</th>\n",
       "      <td>4825</td>\n",
       "      <td>4516</td>\n",
       "      <td>Sorry, I'll call later</td>\n",
       "      <td>30</td>\n",
       "    </tr>\n",
       "    <tr>\n",
       "      <th>spam</th>\n",
       "      <td>747</td>\n",
       "      <td>653</td>\n",
       "      <td>Please call our customer service representativ...</td>\n",
       "      <td>4</td>\n",
       "    </tr>\n",
       "  </tbody>\n",
       "</table>\n",
       "</div>"
      ],
      "text/plain": [
       "      message                                                               \n",
       "        count unique                                                top freq\n",
       "class                                                                       \n",
       "ham      4825   4516                             Sorry, I'll call later   30\n",
       "spam      747    653  Please call our customer service representativ...    4"
      ]
     },
     "execution_count": 13,
     "metadata": {},
     "output_type": "execute_result"
    }
   ],
   "source": [
    "msgs.groupby(['class']).describe()"
   ]
  },
  {
   "cell_type": "markdown",
   "metadata": {},
   "source": [
    "## Parte do Feature Engineering\n",
    "\n",
    "Vamos achar features nesses dados!\n"
   ]
  },
  {
   "cell_type": "code",
   "execution_count": 15,
   "metadata": {},
   "outputs": [
    {
     "data": {
      "text/html": [
       "<div>\n",
       "<style scoped>\n",
       "    .dataframe tbody tr th:only-of-type {\n",
       "        vertical-align: middle;\n",
       "    }\n",
       "\n",
       "    .dataframe tbody tr th {\n",
       "        vertical-align: top;\n",
       "    }\n",
       "\n",
       "    .dataframe thead th {\n",
       "        text-align: right;\n",
       "    }\n",
       "</style>\n",
       "<table border=\"1\" class=\"dataframe\">\n",
       "  <thead>\n",
       "    <tr style=\"text-align: right;\">\n",
       "      <th></th>\n",
       "      <th>class</th>\n",
       "      <th>message</th>\n",
       "      <th>tamanho</th>\n",
       "    </tr>\n",
       "  </thead>\n",
       "  <tbody>\n",
       "    <tr>\n",
       "      <th>0</th>\n",
       "      <td>ham</td>\n",
       "      <td>Go until jurong point, crazy.. Available only ...</td>\n",
       "      <td>111</td>\n",
       "    </tr>\n",
       "    <tr>\n",
       "      <th>1</th>\n",
       "      <td>ham</td>\n",
       "      <td>Ok lar... Joking wif u oni...</td>\n",
       "      <td>29</td>\n",
       "    </tr>\n",
       "    <tr>\n",
       "      <th>2</th>\n",
       "      <td>spam</td>\n",
       "      <td>Free entry in 2 a wkly comp to win FA Cup fina...</td>\n",
       "      <td>155</td>\n",
       "    </tr>\n",
       "    <tr>\n",
       "      <th>3</th>\n",
       "      <td>ham</td>\n",
       "      <td>U dun say so early hor... U c already then say...</td>\n",
       "      <td>49</td>\n",
       "    </tr>\n",
       "    <tr>\n",
       "      <th>4</th>\n",
       "      <td>ham</td>\n",
       "      <td>Nah I don't think he goes to usf, he lives aro...</td>\n",
       "      <td>61</td>\n",
       "    </tr>\n",
       "  </tbody>\n",
       "</table>\n",
       "</div>"
      ],
      "text/plain": [
       "  class                                            message  tamanho\n",
       "0   ham  Go until jurong point, crazy.. Available only ...      111\n",
       "1   ham                      Ok lar... Joking wif u oni...       29\n",
       "2  spam  Free entry in 2 a wkly comp to win FA Cup fina...      155\n",
       "3   ham  U dun say so early hor... U c already then say...       49\n",
       "4   ham  Nah I don't think he goes to usf, he lives aro...       61"
      ]
     },
     "execution_count": 15,
     "metadata": {},
     "output_type": "execute_result"
    }
   ],
   "source": [
    "msgs['tamanho'] = msgs['message'].map(len)\n",
    "msgs.head()"
   ]
  },
  {
   "cell_type": "code",
   "execution_count": 20,
   "metadata": {},
   "outputs": [
    {
     "data": {
      "text/plain": [
       "<matplotlib.axes._subplots.AxesSubplot at 0x7fc845b62c88>"
      ]
     },
     "execution_count": 20,
     "metadata": {},
     "output_type": "execute_result"
    },
    {
     "data": {
      "image/png": "[encoded data removed]",
      "text/plain": [
       "<matplotlib.figure.Figure at 0x7fc84824cd68>"
      ]
     },
     "metadata": {},
     "output_type": "display_data"
    }
   ],
   "source": [
    "msgs['tamanho'].plot(bins=50,kind='hist')"
   ]
  },
  {
   "cell_type": "code",
   "execution_count": 22,
   "metadata": {},
   "outputs": [
    {
     "data": {
      "text/plain": [
       "count    5572.000000\n",
       "mean       80.489950\n",
       "std        59.942907\n",
       "min         2.000000\n",
       "25%        36.000000\n",
       "50%        62.000000\n",
       "75%       122.000000\n",
       "max       910.000000\n",
       "Name: tamanho, dtype: float64"
      ]
     },
     "execution_count": 22,
     "metadata": {},
     "output_type": "execute_result"
    }
   ],
   "source": [
    "msgs['tamanho'].describe()"
   ]
  },
  {
   "cell_type": "code",
   "execution_count": 24,
   "metadata": {},
   "outputs": [
    {
     "data": {
      "text/plain": [
       "array([<matplotlib.axes._subplots.AxesSubplot object at 0x7fc845a77240>,\n",
       "       <matplotlib.axes._subplots.AxesSubplot object at 0x7fc8459edda0>], dtype=object)"
      ]
     },
     "execution_count": 24,
     "metadata": {},
     "output_type": "execute_result"
    },
    {
     "data": {
      "image/png": "[encoded data removed]",
      "text/plain": [
       "<matplotlib.figure.Figure at 0x7fc848128b70>"
      ]
     },
     "metadata": {},
     "output_type": "display_data"
    }
   ],
   "source": [
    "msgs.hist(column='tamanho',by='class')"
   ]
  },
  {
   "cell_type": "markdown",
   "metadata": {},
   "source": [
    "## Parece que o tamanho do texto é um indicativo interessante sobre se o texto é um Spam.\n",
    "\n",
    "Vamos criar mais features! \n",
    "\n",
    "[Bag-of-Words - wiki](https://en.wikipedia.org/wiki/Bag-of-words_model)\n",
    "\n",
    "[Bag-of-words - Udacity Quick Video](https://www.youtube.com/watch?v=OGK9SHt8SWg)"
   ]
  },
  {
   "cell_type": "code",
   "execution_count": 26,
   "metadata": {},
   "outputs": [],
   "source": [
    "from nltk.tokenize import word_tokenize\n",
    "from nltk.corpus import stopwords"
   ]
  },
  {
   "cell_type": "code",
   "execution_count": 28,
   "metadata": {},
   "outputs": [],
   "source": [
    "def remove_stopwords(list_of_words):\n",
    "    return [word for word in list_of_words if word not in stopwords.words('english')]"
   ]
  },
  {
   "cell_type": "code",
   "execution_count": 34,
   "metadata": {
    "scrolled": true
   },
   "outputs": [],
   "source": [
    "msgs['tokens'] = msgs['message'].map(word_tokenize).map(remove_stopwords)"
   ]
  },
  {
   "cell_type": "code",
   "execution_count": 36,
   "metadata": {
    "scrolled": true
   },
   "outputs": [
    {
     "data": {
      "text/plain": [
       "0       [Go, jurong, point, ,, crazy.., Available, bug...\n",
       "1                [Ok, lar, ..., Joking, wif, u, oni, ...]\n",
       "2       [Free, entry, 2, wkly, comp, win, FA, Cup, fin...\n",
       "3       [U, dun, say, early, hor, ..., U, c, already, ...\n",
       "4       [Nah, I, n't, think, goes, usf, ,, lives, arou...\n",
       "5       [FreeMsg, Hey, darling, 's, 3, week, 's, word,...\n",
       "6       [Even, brother, like, speak, ., They, treat, l...\n",
       "7       [As, per, request, 'Melle, Melle, (, Oru, Minn...\n",
       "8       [WINNER, !, !, As, valued, network, customer, ...\n",
       "9       [Had, mobile, 11, months, ?, U, R, entitled, U...\n",
       "10      [I, 'm, gon, na, home, soon, n't, want, talk, ...\n",
       "11      [SIX, chances, win, CASH, !, From, 100, 20,000...\n",
       "12      [URGENT, !, You, 1, week, FREE, membership, £1...\n",
       "13      [I, 've, searching, right, words, thank, breat...\n",
       "14       [I, HAVE, A, DATE, ON, SUNDAY, WITH, WILL, !, !]\n",
       "15      [XXXMobileMovieClub, :, To, use, credit, ,, cl...\n",
       "16                       [Oh, k, ..., 'm, watching, :, )]\n",
       "17      [Eh, u, remember, 2, spell, name, ..., Yes, .,...\n",
       "18      [Fine, thats, way, u, feel, ., Thats, way, g...\n",
       "19      [England, v, Macedonia, -, dont, miss, goals/t...\n",
       "20                        [Is, seriously, spell, name, ?]\n",
       "21          [I, ‘, going, try, 2, months, ha, ha, joking]\n",
       "22      [So, ü, pay, first, lar, ..., Then, da, stock,...\n",
       "23      [Aft, finish, lunch, go, str, lor, ., Ard, 3, ...\n",
       "24      [Ffffffffff, ., Alright, way, I, meet, sooner, ?]\n",
       "25      [Just, forced, eat, slice, ., I, 'm, really, h...\n",
       "26                           [Lol, always, convincing, .]\n",
       "27      [Did, catch, bus, ?, Are, frying, egg, ?, Did,...\n",
       "28      [I, 'm, back, &, amp, ;, 're, packing, car, ,,...\n",
       "29      [Ahhh, ., Work, ., I, vaguely, remember, !, Wh...\n",
       "                              ...                        \n",
       "5542                    [Armand, says, get, ass, epsilon]\n",
       "5543       [U, still, havent, got, urself, jacket, ah, ?]\n",
       "5544    [I, 'm, taking, derek, &, amp, ;, taylor, walm...\n",
       "5545                          [Hi, durban, still, number]\n",
       "5546            [Ic, ., There, lotta, childporn, cars, .]\n",
       "5547    [Had, contract, mobile, 11, Mnths, ?, Latest, ...\n",
       "5548                    [No, ,, I, trying, weekend, ;, V]\n",
       "5549    [You, know, ,, wot, people, wear, ., T, shirts...\n",
       "5550                       [Cool, ,, time, think, get, ?]\n",
       "5551      [Wen, get, spiritual, deep, ., That, 's, great]\n",
       "5552    [Have, safe, trip, Nigeria, ., Wish, happiness...\n",
       "5553                           [Hahaha..use, brain, dear]\n",
       "5554    [Well, keep, mind, I, 've, got, enough, gas, o...\n",
       "5555    [Yeh, ., Indians, nice, ., Tho, kane, bit, ., ...\n",
       "5556    [Yes, ., So, 's, u, texted, ., Pshew, ..., mis...\n",
       "5557    [No, ., I, meant, calculation, ., That, &, lt,...\n",
       "5558                      [Sorry, ,, I, 'll, call, later]\n",
       "5559    [n't, next, &, lt, ;, #, &, gt, ;, hours, imma...\n",
       "5560                  [Anything, lor, ., Juz, us, lor, .]\n",
       "5561    [Get, dump, heap, ., My, mom, decided, come, l...\n",
       "5562    [Ok, lor, ..., Sony, ericsson, salesman, ..., ...\n",
       "5563                          [Ard, 6, like, dat, lor, .]\n",
       "5564    [Why, n't, wait, 'til, least, wednesday, see, ...\n",
       "5565                                      [Huh, lei, ...]\n",
       "5566    [REMINDER, FROM, O2, :, To, get, 2.50, pounds,...\n",
       "5567    [This, 2nd, time, tried, 2, contact, u., U, £7...\n",
       "5568          [Will, ü, b, going, esplanade, fr, home, ?]\n",
       "5569       [Pity, ,, *, mood, ., So, ..., suggestions, ?]\n",
       "5570    [The, guy, bitching, I, acted, like, 'd, inter...\n",
       "5571                           [Rofl, ., Its, true, name]\n",
       "Name: tokens, Length: 5572, dtype: object"
      ]
     },
     "execution_count": 36,
     "metadata": {},
     "output_type": "execute_result"
    }
   ],
   "source": [
    "msgs['tokens']"
   ]
  },
  {
   "cell_type": "code",
   "execution_count": 32,
   "metadata": {},
   "outputs": [],
   "source": [
    "from sklearn.feature_extraction.text import CountVectorizer"
   ]
  },
  {
   "cell_type": "code",
   "execution_count": 37,
   "metadata": {},
   "outputs": [],
   "source": [
    "def process(document):\n",
    "    tokens = word_tokenize(document)\n",
    "    return [word for word in tokens if word not in stopwords.words('english')]"
   ]
  },
  {
   "cell_type": "code",
   "execution_count": 38,
   "metadata": {},
   "outputs": [],
   "source": [
    "bow_trans = CountVectorizer(analyzer=process)"
   ]
  },
  {
   "cell_type": "code",
   "execution_count": 39,
   "metadata": {
    "scrolled": true
   },
   "outputs": [
    {
     "data": {
      "text/plain": [
       "CountVectorizer(analyzer=<function process at 0x7fc840799f28>, binary=False,\n",
       "        decode_error='strict', dtype=<class 'numpy.int64'>,\n",
       "        encoding='utf-8', input='content', lowercase=True, max_df=1.0,\n",
       "        max_features=None, min_df=1, ngram_range=(1, 1), preprocessor=None,\n",
       "        stop_words=None, strip_accents=None,\n",
       "        token_pattern='(?u)\\\\b\\\\w\\\\w+\\\\b', tokenizer=None, vocabulary=None)"
      ]
     },
     "execution_count": 39,
     "metadata": {},
     "output_type": "execute_result"
    }
   ],
   "source": [
    "bow_trans.fit(msgs['message'])"
   ]
  },
  {
   "cell_type": "markdown",
   "metadata": {},
   "source": [
    "# Aqui pegamos uma mensagem do dataframe e vemos o que ela retorna"
   ]
  },
  {
   "cell_type": "code",
   "execution_count": 42,
   "metadata": {},
   "outputs": [
    {
     "data": {
      "text/plain": [
       "'Go until jurong point, crazy.. Available only in bugis n great world la e buffet... Cine there got amore wat...'"
      ]
     },
     "execution_count": 42,
     "metadata": {},
     "output_type": "execute_result"
    }
   ],
   "source": [
    "m = msgs['message'][0]\n",
    "m"
   ]
  },
  {
   "cell_type": "markdown",
   "metadata": {},
   "source": [
    "# Ao coloca-lá no metodo `transform` do nosso bag-of-words, o resultado é a matriz que relaciona as palavras únicas com sua occorrencia. \n",
    "\n",
    "Abaixo fica representado assim:\n",
    "\n",
    "`(0,Numero_da_palavra) ________ Numero de ocorrências na frase`"
   ]
  },
  {
   "cell_type": "code",
   "execution_count": 62,
   "metadata": {},
   "outputs": [
    {
     "name": "stdout",
     "output_type": "stream",
     "text": [
      "  (0, 94)\t1\n",
      "  (0, 121)\t2\n",
      "  (0, 1348)\t1\n",
      "  (0, 1737)\t1\n",
      "  (0, 2342)\t1\n",
      "  (0, 5026)\t1\n",
      "  (0, 5583)\t1\n",
      "  (0, 5584)\t1\n",
      "  (0, 6130)\t1\n",
      "  (0, 6566)\t1\n",
      "  (0, 7277)\t1\n",
      "  (0, 7306)\t1\n",
      "  (0, 7916)\t1\n",
      "  (0, 8037)\t1\n",
      "  (0, 8691)\t1\n",
      "  (0, 9276)\t1\n",
      "  (0, 11322)\t1\n",
      "  (0, 11506)\t1\n"
     ]
    }
   ],
   "source": [
    "mn = bow_trans.transform([m])\n",
    "print(mn)"
   ]
  },
  {
   "cell_type": "code",
   "execution_count": 64,
   "metadata": {},
   "outputs": [
    {
     "name": "stdout",
     "output_type": "stream",
     "text": [
      "world\n"
     ]
    }
   ],
   "source": [
    "print(bow_trans.get_feature_names()[11506])"
   ]
  },
  {
   "cell_type": "markdown",
   "metadata": {},
   "source": [
    "## Vamos utilizar o `.transform` para pegar nossa matriz com os termos e suas frequencias\n",
    "\n",
    "[.transform](http://scikit-learn.org/stable/modules/generated/sklearn.feature_extraction.text.CountVectorizer.html#sklearn.feature_extraction.text.CountVectorizer.transform)"
   ]
  },
  {
   "cell_type": "code",
   "execution_count": 65,
   "metadata": {},
   "outputs": [],
   "source": [
    "messages_bow = bow_trans.transform(msgs['message'])"
   ]
  },
  {
   "cell_type": "code",
   "execution_count": 66,
   "metadata": {},
   "outputs": [
    {
     "name": "stdout",
     "output_type": "stream",
     "text": [
      "(5572, 11766)\n"
     ]
    }
   ],
   "source": [
    "print(messages_bow.shape)"
   ]
  },
  {
   "cell_type": "markdown",
   "metadata": {},
   "source": [
    "# TF-IDF\n",
    "\n",
    "É uma maneira de saber o quão importante é uma palavra em um documento. \n",
    "\n",
    "\n",
    "[TF-IDF](http://www.tfidf.com/)"
   ]
  },
  {
   "cell_type": "code",
   "execution_count": 67,
   "metadata": {},
   "outputs": [],
   "source": [
    "from sklearn.feature_extraction.text import TfidfTransformer"
   ]
  },
  {
   "cell_type": "code",
   "execution_count": 68,
   "metadata": {},
   "outputs": [],
   "source": [
    "tfidf_trans = TfidfTransformer().fit(messages_bow)"
   ]
  },
  {
   "cell_type": "code",
   "execution_count": 71,
   "metadata": {},
   "outputs": [],
   "source": [
    "tfidf = tfidf_trans.transform(mn)"
   ]
  },
  {
   "cell_type": "code",
   "execution_count": 74,
   "metadata": {},
   "outputs": [
    {
     "name": "stdout",
     "output_type": "stream",
     "text": [
      "  (0, 11506)\t0.215432162073\n",
      "  (0, 11322)\t0.18330263095\n",
      "  (0, 9276)\t0.23742075352\n",
      "  (0, 8691)\t0.162968085083\n",
      "  (0, 8037)\t0.25374618694\n",
      "  (0, 7916)\t0.300361000455\n",
      "  (0, 7306)\t0.176320657612\n",
      "  (0, 7277)\t0.143869349103\n",
      "  (0, 6566)\t0.182789254869\n",
      "  (0, 6130)\t0.300361000455\n",
      "  (0, 5584)\t0.258236244131\n",
      "  (0, 5583)\t0.286727041513\n",
      "  (0, 5026)\t0.300361000455\n",
      "  (0, 2342)\t0.232608918943\n",
      "  (0, 1737)\t0.300361000455\n",
      "  (0, 1348)\t0.277053593698\n",
      "  (0, 121)\t0.200099162206\n",
      "  (0, 94)\t0.082492187\n"
     ]
    }
   ],
   "source": [
    "print(tfidf)"
   ]
  },
  {
   "cell_type": "code",
   "execution_count": 75,
   "metadata": {},
   "outputs": [],
   "source": [
    "messages_tfidf = tfidf_trans.transform(messages_bow)"
   ]
  },
  {
   "cell_type": "code",
   "execution_count": 77,
   "metadata": {
    "scrolled": true
   },
   "outputs": [
    {
     "name": "stdout",
     "output_type": "stream",
     "text": [
      "  (0, 11506)\t0.215432162073\n",
      "  (0, 11322)\t0.18330263095\n",
      "  (0, 9276)\t0.23742075352\n",
      "  (0, 8691)\t0.162968085083\n",
      "  (0, 8037)\t0.25374618694\n",
      "  (0, 7916)\t0.300361000455\n",
      "  (0, 7306)\t0.176320657612\n",
      "  (0, 7277)\t0.143869349103\n",
      "  (0, 6566)\t0.182789254869\n",
      "  (0, 6130)\t0.300361000455\n",
      "  (0, 5584)\t0.258236244131\n",
      "  (0, 5583)\t0.286727041513\n",
      "  (0, 5026)\t0.300361000455\n",
      "  (0, 2342)\t0.232608918943\n",
      "  (0, 1737)\t0.300361000455\n",
      "  (0, 1348)\t0.277053593698\n",
      "  (0, 121)\t0.200099162206\n",
      "  (0, 94)\t0.082492187\n",
      "  (1, 11418)\t0.374364299349\n",
      "  (1, 11052)\t0.193567741123\n",
      "  (1, 8946)\t0.47129244849\n",
      "  (1, 8068)\t0.353621179889\n",
      "  (1, 3383)\t0.277523185202\n",
      "  (1, 2751)\t0.525163130593\n",
      "  (1, 121)\t0.349861341165\n",
      "  :\t:\n",
      "  (5569, 121)\t0.171918621464\n",
      "  (5569, 119)\t0.100840939454\n",
      "  (5569, 94)\t0.141749149914\n",
      "  (5569, 43)\t0.35241805291\n",
      "  (5570, 11361)\t0.198860888973\n",
      "  (5570, 11141)\t0.223858983956\n",
      "  (5570, 10280)\t0.218448077781\n",
      "  (5570, 8779)\t0.221742864512\n",
      "  (5570, 8162)\t0.168623169581\n",
      "  (5570, 7755)\t0.300674318379\n",
      "  (5570, 7352)\t0.255274450701\n",
      "  (5570, 7174)\t0.287985778577\n",
      "  (5570, 7065)\t0.196972183845\n",
      "  (5570, 6635)\t0.255274450701\n",
      "  (5570, 5618)\t0.295981345461\n",
      "  (5570, 5426)\t0.355910132755\n",
      "  (5570, 4880)\t0.339754692701\n",
      "  (5570, 4302)\t0.203360911307\n",
      "  (5570, 2583)\t0.0927541714824\n",
      "  (5570, 25)\t0.250758957887\n",
      "  (5571, 11001)\t0.493338941182\n",
      "  (5571, 8706)\t0.442568280404\n",
      "  (5571, 3764)\t0.624579195427\n",
      "  (5571, 2693)\t0.392822064026\n",
      "  (5571, 119)\t0.12783450609\n"
     ]
    }
   ],
   "source": [
    "print(messages_tfidf)"
   ]
  },
  {
   "cell_type": "markdown",
   "metadata": {},
   "source": [
    "# Agora vamos treinar nosso Classificador!"
   ]
  },
  {
   "cell_type": "code",
   "execution_count": 95,
   "metadata": {},
   "outputs": [],
   "source": [
    "from sklearn.naive_bayes import MultinomialNB\n",
    "from sklearn.metrics import classification_report\n",
    "from sklearn.cross_validation import train_test_split\n",
    "from sklearn.pipeline import Pipeline"
   ]
  },
  {
   "cell_type": "code",
   "execution_count": 93,
   "metadata": {},
   "outputs": [],
   "source": [
    "X_train,X_test,Y_train,Y_test = train_test_split(np.ravel(msgs['message']),np.ravel(msgs['class']))"
   ]
  },
  {
   "cell_type": "markdown",
   "metadata": {},
   "source": [
    "# Importante\n",
    "\n",
    "## Pipeline\n",
    "\n",
    "ver **[Sklearn - Pipeline](http://scikit-learn.org/stable/modules/generated/sklearn.pipeline.Pipeline.html)**"
   ]
  },
  {
   "cell_type": "code",
   "execution_count": 96,
   "metadata": {},
   "outputs": [],
   "source": [
    "pipe = Pipeline([\n",
    "    ('bow',CountVectorizer(analyzer=process)),\n",
    "    ('tfidf',TfidfTransformer()),\n",
    "    ('classifier',MultinomialNB())\n",
    "])"
   ]
  },
  {
   "cell_type": "code",
   "execution_count": 97,
   "metadata": {},
   "outputs": [
    {
     "data": {
      "text/plain": [
       "Pipeline(memory=None,\n",
       "     steps=[('bow', CountVectorizer(analyzer=<function process at 0x7fc840799f28>, binary=False,\n",
       "        decode_error='strict', dtype=<class 'numpy.int64'>,\n",
       "        encoding='utf-8', input='content', lowercase=True, max_df=1.0,\n",
       "        max_features=None, min_df=1, ngram_range=(1, 1), preprocessor=None,\n",
       " ...f=False, use_idf=True)), ('classifier', MultinomialNB(alpha=1.0, class_prior=None, fit_prior=True))])"
      ]
     },
     "execution_count": 97,
     "metadata": {},
     "output_type": "execute_result"
    }
   ],
   "source": [
    "pipe.fit(X_train,Y_train)"
   ]
  },
  {
   "cell_type": "code",
   "execution_count": 98,
   "metadata": {},
   "outputs": [],
   "source": [
    "predictions = pipe.predict(X_test)"
   ]
  },
  {
   "cell_type": "code",
   "execution_count": 99,
   "metadata": {},
   "outputs": [
    {
     "name": "stdout",
     "output_type": "stream",
     "text": [
      "             precision    recall  f1-score   support\n",
      "\n",
      "        ham       1.00      0.96      0.98      1276\n",
      "       spam       0.68      1.00      0.81       117\n",
      "\n",
      "avg / total       0.97      0.96      0.96      1393\n",
      "\n"
     ]
    }
   ],
   "source": [
    "print(classification_report(predictions,Y_test))"
   ]
  }
 ],
 "metadata": {
  "kernelspec": {
   "display_name": "Python 3",
   "language": "python",
   "name": "python3"
  },
  "language_info": {
   "codemirror_mode": {
    "name": "ipython",
    "version": 3
   },
   "file_extension": ".py",
   "mimetype": "text/x-python",
   "name": "python",
   "nbconvert_exporter": "python",
   "pygments_lexer": "ipython3",
   "version": "3.5.3"
  }
 },
 "nbformat": 4,
 "nbformat_minor": 2
}
